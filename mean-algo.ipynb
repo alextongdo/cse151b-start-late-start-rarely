{
 "cells": [
  {
   "cell_type": "code",
   "execution_count": 1,
   "id": "ca12bc91-b179-4517-8022-23fd7f8cf346",
   "metadata": {},
   "outputs": [],
   "source": [
    "import pandas as pd\n",
    "from tqdm import tqdm\n",
    "import time\n",
    "train = pd.read_csv('processed_train.csv')\n",
    "test = pd.read_csv('processed_test.csv')"
   ]
  },
  {
   "cell_type": "code",
   "execution_count": 2,
   "id": "6e5d3274-bd43-4285-91fe-9e7e31ee71a7",
   "metadata": {},
   "outputs": [],
   "source": [
    "train['CALL_TYPE'] = train['CALL_TYPE'].astype(str)\n",
    "train['ORIGIN_CALL'] = train['ORIGIN_CALL'].astype(int)\n",
    "train['ORIGIN_STAND'] = train['ORIGIN_STAND'].astype(int)\n",
    "train['TAXI_ID'] = train['TAXI_ID'].astype(int)\n",
    "train['QTRHR'] = train['QTRHR'].astype(int)\n",
    "train['WK'] = train['WK'].astype(int)\n",
    "train['WKYR'] = train['WKYR'].astype(int)\n",
    "train['HOLIDAY'] = train['HOLIDAY'].astype(int)"
   ]
  },
  {
   "cell_type": "code",
   "execution_count": 3,
   "id": "e5486b35-2f2a-419a-b00b-2e1e5926d4ae",
   "metadata": {},
   "outputs": [],
   "source": [
    "test['CALL_TYPE'] = test['CALL_TYPE'].astype(str)\n",
    "test['ORIGIN_CALL'] = test['ORIGIN_CALL'].astype(int)\n",
    "test['ORIGIN_STAND'] = test['ORIGIN_STAND'].astype(int)\n",
    "test['TAXI_ID'] = test['TAXI_ID'].astype(int)\n",
    "test['QTRHR'] = test['QTRHR'].astype(int)\n",
    "test['WK'] = test['WK'].astype(int)\n",
    "test['WKYR'] = test['WKYR'].astype(int)\n",
    "test['HOLIDAY'] = test['HOLIDAY'].astype(int)"
   ]
  },
  {
   "cell_type": "code",
   "execution_count": 4,
   "id": "bf947853-0ef4-455f-870e-9ff7695fe2d3",
   "metadata": {},
   "outputs": [
    {
     "name": "stderr",
     "output_type": "stream",
     "text": [
      "  0%|                                                       | 0/320 [00:00<?, ?it/s]"
     ]
    }
   ],
   "source": [
    "progress_bar = tqdm(total=len(test))\n",
    "def check_memory(x):\n",
    "    progress_bar.update(1)\n",
    "    memory = train[train['CALL_TYPE'] == x['CALL_TYPE']]\n",
    "    \n",
    "    match = memory.loc[\n",
    "        (memory['TAXI_ID'] == x['TAXI_ID']) &\n",
    "        (memory['ORIGIN_STAND'] == x['ORIGIN_STAND']) &\n",
    "        (memory['ORIGIN_CALL'] == x['ORIGIN_CALL']) &\n",
    "        (memory['WK'] == x['WK']) &\n",
    "        (memory['QTRHR'] == x['QTRHR']) &\n",
    "        (memory['WKYR'] == x['WKYR']) &\n",
    "        (memory['HOLIDAY'] == x['HOLIDAY'])\n",
    "    ]\n",
    "    if len(match) > 0:\n",
    "        return match['TRAVEL_TIME'].mean()\n",
    "\n",
    "    match = memory.loc[\n",
    "        (memory['TAXI_ID'] == x['TAXI_ID']) &\n",
    "        (memory['ORIGIN_STAND'] == x['ORIGIN_STAND']) &\n",
    "        (memory['ORIGIN_CALL'] == x['ORIGIN_CALL']) &\n",
    "        (memory['WK'] == x['WK']) &\n",
    "        (memory['QTRHR'] == x['QTRHR']) &\n",
    "        (memory['WKYR'] == x['WKYR'])\n",
    "    ]\n",
    "    if len(match) > 0:\n",
    "        return match['TRAVEL_TIME'].mean()\n",
    "\n",
    "    match = memory.loc[\n",
    "        (memory['TAXI_ID'] == x['TAXI_ID']) &\n",
    "        (memory['ORIGIN_STAND'] == x['ORIGIN_STAND']) &\n",
    "        (memory['ORIGIN_CALL'] == x['ORIGIN_CALL']) &\n",
    "        (memory['WK'] == x['WK']) &\n",
    "        (memory['QTRHR'] == x['QTRHR'])\n",
    "    ]\n",
    "    if len(match) > 0:\n",
    "        return match['TRAVEL_TIME'].mean()\n",
    "\n",
    "    match = memory.loc[\n",
    "        (memory['TAXI_ID'] == x['TAXI_ID']) &\n",
    "        (memory['ORIGIN_STAND'] == x['ORIGIN_STAND']) &\n",
    "        (memory['ORIGIN_CALL'] == x['ORIGIN_CALL']) &\n",
    "        (memory['WK'] == x['WK'])\n",
    "    ]\n",
    "    if len(match) > 0:\n",
    "        return match['TRAVEL_TIME'].mean()\n",
    "\n",
    "    match = memory.loc[\n",
    "        (memory['TAXI_ID'] == x['TAXI_ID']) &\n",
    "        (memory['ORIGIN_STAND'] == x['ORIGIN_STAND']) &\n",
    "        (memory['ORIGIN_CALL'] == x['ORIGIN_CALL'])\n",
    "    ]\n",
    "    if len(match) > 0:\n",
    "        return match['TRAVEL_TIME'].mean()\n",
    "\n",
    "    match = memory.loc[\n",
    "        (memory['TAXI_ID'] == x['TAXI_ID']) &\n",
    "        (memory['ORIGIN_STAND'] == x['ORIGIN_STAND'])\n",
    "    ]\n",
    "    if len(match) > 0:\n",
    "        return match['TRAVEL_TIME'].mean()\n",
    "\n",
    "    match = memory.loc[\n",
    "        (memory['TAXI_ID'] == x['TAXI_ID'])\n",
    "    ]\n",
    "    if len(match) > 0:\n",
    "        return match['TRAVEL_TIME'].mean()\n",
    "\n",
    "    return memory['TRAVEL_TIME'].mean()"
   ]
  },
  {
   "cell_type": "code",
   "execution_count": 5,
   "id": "d75704c9-a6df-4961-8a96-713de075a2d2",
   "metadata": {},
   "outputs": [
    {
     "name": "stderr",
     "output_type": "stream",
     "text": [
      "100%|█████████████████████████████████████████████| 320/320 [00:47<00:00,  6.80it/s]"
     ]
    },
    {
     "name": "stdout",
     "output_type": "stream",
     "text": [
      "47.03366541862488\n"
     ]
    },
    {
     "name": "stderr",
     "output_type": "stream",
     "text": [
      "\n"
     ]
    }
   ],
   "source": [
    "start = time.time()\n",
    "submission = pd.DataFrame({'TRIP_ID': test['TRIP_ID'], 'TRAVEL_TIME': test.apply(check_memory, axis=1)})\n",
    "progress_bar.close()\n",
    "print(time.time()-start)"
   ]
  },
  {
   "cell_type": "code",
   "execution_count": 6,
   "id": "52277c39-3aa8-42bc-b7f1-720970cf06b7",
   "metadata": {},
   "outputs": [],
   "source": [
    "submission.to_csv('submission.csv', index=False)"
   ]
  },
  {
   "cell_type": "code",
   "execution_count": null,
   "id": "c7a41e7a-787d-4b40-b754-4761596ed8a6",
   "metadata": {},
   "outputs": [],
   "source": []
  }
 ],
 "metadata": {
  "kernelspec": {
   "display_name": "Python 3 (ipykernel)",
   "language": "python",
   "name": "python3"
  },
  "language_info": {
   "codemirror_mode": {
    "name": "ipython",
    "version": 3
   },
   "file_extension": ".py",
   "mimetype": "text/x-python",
   "name": "python",
   "nbconvert_exporter": "python",
   "pygments_lexer": "ipython3",
   "version": "3.9.15"
  }
 },
 "nbformat": 4,
 "nbformat_minor": 5
}
