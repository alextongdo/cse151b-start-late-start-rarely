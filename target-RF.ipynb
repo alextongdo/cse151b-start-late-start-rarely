{
 "cells": [
  {
   "cell_type": "code",
   "execution_count": null,
   "id": "660e084d-bd21-4f03-a3ad-b4bd68963d99",
   "metadata": {},
   "outputs": [],
   "source": [
    "import pandas as pd\n",
    "import sklearn\n",
    "import time\n",
    "import numpy as np\n",
    "from category_encoders.target_encoder import TargetEncoder\n",
    "from sklearn.model_selection import train_test_split\n",
    "from sklearn.ensemble import RandomForestRegressor\n",
    "from sklearn.metrics import mean_squared_error\n",
    "from sklearn.model_selection import RandomizedSearchCV\n",
    "\n",
    "sklearn.set_config(transform_output=\"pandas\")"
   ]
  },
  {
   "cell_type": "code",
   "execution_count": null,
   "id": "88f786da-3f58-4390-9702-95428694a508",
   "metadata": {},
   "outputs": [],
   "source": [
    "data = pd.read_csv('processed_train.csv')\n",
    "test = pd.read_csv('processed_test.csv')\n",
    "\n",
    "A = data[data['CALL_TYPE'] == 'A']\n",
    "A_train, A_val = train_test_split(A, test_size=0.2, random_state=42)\n",
    "A_train = A_train.reset_index()\n",
    "A_val = A_val.reset_index()\n",
    "\n",
    "B = data[data['CALL_TYPE'] == 'B']\n",
    "B_train, B_val = train_test_split(B, test_size=0.2, random_state=42)\n",
    "B_train = B_train.reset_index()\n",
    "B_val = B_val.reset_index()\n",
    "\n",
    "C = data[data['CALL_TYPE'] == 'C']\n",
    "C_train, C_val = train_test_split(C, test_size=0.2, random_state=42)\n",
    "C_train = C_train.reset_index()\n",
    "C_val = C_val.reset_index()"
   ]
  },
  {
   "cell_type": "code",
   "execution_count": null,
   "id": "b7006826-a8ba-474e-9a67-80ae32776811",
   "metadata": {},
   "outputs": [],
   "source": [
    "target = TargetEncoder(cols=['ORIGIN_CALL', 'ORIGIN_STAND', 'TAXI_ID'])\n",
    "\n",
    "A_train = target.fit_transform(A_train, A_train['TRAVEL_TIME'])\n",
    "A_val = target.transform(A_val)"
   ]
  },
  {
   "cell_type": "code",
   "execution_count": null,
   "id": "7d89ce48-bbd9-41d3-956f-6683f3e16d71",
   "metadata": {},
   "outputs": [],
   "source": [
    "random_grid = {'n_estimators': [int(x) for x in np.linspace(start = 500, stop = 1500, num = 11)],\n",
    "               'max_depth': [int(x) for x in np.linspace(50, 150, num = 11)] + [None],\n",
    "               'min_samples_split': [14, 16, 18],\n",
    "               'min_samples_leaf': [3, 4, 5]}\n",
    "\n",
    "categorical_A = [\n",
    "    'ORIGIN_CALL',\n",
    "    'TAXI_ID',\n",
    "    'QTRHR',\n",
    "    'WK',\n",
    "    'WKYR',\n",
    "    'HOLIDAY'\n",
    "]\n",
    "\n",
    "categorical_B = [\n",
    "    'ORIGIN_STAND',\n",
    "    'TAXI_ID',\n",
    "    'QTRHR',\n",
    "    'WK',\n",
    "    'WKYR',\n",
    "    'HOLIDAY'\n",
    "]\n",
    "\n",
    "categorical_C = [\n",
    "    'TAXI_ID',\n",
    "    'QTRHR',\n",
    "    'WK',\n",
    "    'WKYR',\n",
    "    'HOLIDAY'\n",
    "]"
   ]
  },
  {
   "cell_type": "code",
   "execution_count": null,
   "id": "8e4f0b8e-1342-40c5-b190-bf336c66276d",
   "metadata": {},
   "outputs": [],
   "source": [
    "rfA = RandomForestRegressor(bootstrap=True, max_features='sqrt', n_jobs=16)\n",
    "rf_random = RandomizedSearchCV(estimator = rfA, param_distributions = random_grid, n_iter=20, cv=3, random_state=42, n_jobs=16)\n",
    "rf_random.fit(A_train[categorical_A], A_train['TRAVEL_TIME'])\n",
    "print('Finished fitting A')"
   ]
  },
  {
   "cell_type": "code",
   "execution_count": null,
   "id": "41472393-39d2-4f9c-9021-032f4ef4d838",
   "metadata": {},
   "outputs": [],
   "source": [
    "best_rfA = rf_random.best_estimator_"
   ]
  },
  {
   "cell_type": "code",
   "execution_count": null,
   "id": "4cf34669-5b86-46e8-bba7-8ed2aa2f04ca",
   "metadata": {},
   "outputs": [],
   "source": [
    "mean_squared_error(A_val['TRAVEL_TIME'].values, best_rfA.predict(A_val[categorical_A]), squared=False)"
   ]
  },
  {
   "cell_type": "code",
   "execution_count": null,
   "id": "43f95164-a22e-401b-8f7e-d474784a83be",
   "metadata": {},
   "outputs": [],
   "source": [
    "B_train = target.fit_transform(B_train, B_train['TRAVEL_TIME'])\n",
    "B_val = target.transform(B_val)"
   ]
  },
  {
   "cell_type": "code",
   "execution_count": null,
   "id": "8e22014a-2c1d-4b96-b8b8-2e09329c4834",
   "metadata": {},
   "outputs": [],
   "source": [
    "rfB = RandomForestRegressor(bootstrap=True, max_features='sqrt', n_jobs=16)\n",
    "rf_random = RandomizedSearchCV(estimator = rfB, param_distributions = random_grid, n_iter=20, cv=3, random_state=42, n_jobs=16)\n",
    "rf_random.fit(B_train[categorical_B], B_train['TRAVEL_TIME'])\n",
    "print('Finished fitting B')"
   ]
  },
  {
   "cell_type": "code",
   "execution_count": null,
   "id": "a2429a3e-f2d2-412f-b58f-c776008b2ad6",
   "metadata": {},
   "outputs": [],
   "source": [
    "best_rfB = rf_random.best_estimator_"
   ]
  },
  {
   "cell_type": "code",
   "execution_count": null,
   "id": "02973086-8e07-4e7d-91a8-8489fc6cfea3",
   "metadata": {},
   "outputs": [],
   "source": [
    "mean_squared_error(B_val['TRAVEL_TIME'].values, best_rfB.predict(B_val[categorical_B]), squared=False)"
   ]
  },
  {
   "cell_type": "code",
   "execution_count": null,
   "id": "8bb4a022-98b1-4c44-bd23-f5f3c4051170",
   "metadata": {},
   "outputs": [],
   "source": [
    "C_train = target.fit_transform(C_train, C_train['TRAVEL_TIME'])\n",
    "C_val = target.transform(C_val)"
   ]
  },
  {
   "cell_type": "code",
   "execution_count": null,
   "id": "0c221b8d-50e1-496b-b686-2b48f2fbb865",
   "metadata": {},
   "outputs": [],
   "source": [
    "rfC = RandomForestRegressor(bootstrap=True, max_features='sqrt', n_jobs=16)\n",
    "rf_random = RandomizedSearchCV(estimator = rfC, param_distributions = random_grid, n_iter=20, cv=3, random_state=42, n_jobs=16)\n",
    "rf_random.fit(C_train[categorical_C], C_train['TRAVEL_TIME'])\n",
    "print('Finished fitting C')"
   ]
  },
  {
   "cell_type": "code",
   "execution_count": null,
   "id": "6642e34a-acd1-45dc-8c36-910e0563042b",
   "metadata": {},
   "outputs": [],
   "source": [
    "best_rfC = rf_random.best_estimator_"
   ]
  },
  {
   "cell_type": "code",
   "execution_count": null,
   "id": "674a97cb-b753-499b-9f33-d0aa3cb71ab5",
   "metadata": {},
   "outputs": [],
   "source": [
    "mean_squared_error(C_val['TRAVEL_TIME'].values, best_rfC.predict(C_val[categorical_C]), squared=False)"
   ]
  },
  {
   "cell_type": "code",
   "execution_count": null,
   "id": "937422d5-3889-4d86-9b96-d9a1bcda7e5d",
   "metadata": {},
   "outputs": [],
   "source": [
    "test = pd.read_csv('processed_test.csv')\n",
    "A_data_test = test[test['CALL_TYPE'] == 'A'].reset_index()\n",
    "B_data_test = test[test['CALL_TYPE'] == 'B'].reset_index()\n",
    "C_data_test = test[test['CALL_TYPE'] == 'C'].reset_index()"
   ]
  },
  {
   "cell_type": "code",
   "execution_count": null,
   "id": "37dc7fc9-a29f-495e-aa55-1ed8916b5619",
   "metadata": {},
   "outputs": [],
   "source": [
    "dfA = pd.DataFrame({'TRIP_ID': A_data_test['TRIP_ID'], 'TRAVEL_TIME': best_rfA.predict(A_data_test[categorical_A])})\n",
    "dfB = pd.DataFrame({'TRIP_ID': B_data_test['TRIP_ID'], 'TRAVEL_TIME': best_rfB.predict(B_data_test[categorical_B])})\n",
    "dfC = pd.DataFrame({'TRIP_ID': C_data_test['TRIP_ID'], 'TRAVEL_TIME': best_rfC.predict(C_data_test[categorical_C])})"
   ]
  },
  {
   "cell_type": "code",
   "execution_count": null,
   "id": "cd37682f-51d7-4ef2-8352-8333a2215355",
   "metadata": {},
   "outputs": [],
   "source": [
    "submission = pd.concat([dfA, dfB, dfC], ignore_index=True)"
   ]
  },
  {
   "cell_type": "code",
   "execution_count": null,
   "id": "3f7e6491-cb56-49df-8e71-b46edda6d8bd",
   "metadata": {},
   "outputs": [],
   "source": [
    "def extract_id(value):\n",
    "    return int(value[1:])\n",
    "submission = submission.iloc[submission['TRIP_ID'].map(extract_id).argsort()]"
   ]
  },
  {
   "cell_type": "code",
   "execution_count": null,
   "id": "c3e3b942-5fae-4b03-b5c3-2cf703945647",
   "metadata": {},
   "outputs": [],
   "source": [
    "submission"
   ]
  },
  {
   "cell_type": "code",
   "execution_count": null,
   "id": "d3096048-b16f-46e4-a3be-60fa6fc4168f",
   "metadata": {},
   "outputs": [],
   "source": [
    "submission.to_csv('submission.csv', index=False)"
   ]
  }
 ],
 "metadata": {
  "kernelspec": {
   "display_name": "Python 3 (ipykernel)",
   "language": "python",
   "name": "python3"
  },
  "language_info": {
   "codemirror_mode": {
    "name": "ipython",
    "version": 3
   },
   "file_extension": ".py",
   "mimetype": "text/x-python",
   "name": "python",
   "nbconvert_exporter": "python",
   "pygments_lexer": "ipython3",
   "version": "3.9.15"
  }
 },
 "nbformat": 4,
 "nbformat_minor": 5
}
