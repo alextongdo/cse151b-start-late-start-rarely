{
 "cells": [
  {
   "cell_type": "code",
   "execution_count": null,
   "id": "56dc8d3e-7169-4aa0-ae3e-396843951c37",
   "metadata": {},
   "outputs": [],
   "source": [
    "import torch\n",
    "import torch.nn as nn\n",
    "import torch.optim as optim\n",
    "import torch.nn.functional as F\n",
    "from torch.utils.data import Dataset, DataLoader\n",
    "from torch.utils.data import Subset\n",
    "import pandas as pd\n",
    "from tqdm import tqdm\n",
    "from sklearn.model_selection import train_test_split\n",
    "from sklearn.preprocessing import OneHotEncoder\n",
    "import numpy as np\n",
    "import matplotlib.pyplot as plt\n",
    "\n",
    "device = torch.device('cuda' if torch.cuda.is_available() else 'cpu')\n",
    "torch.set_float32_matmul_precision('high')\n",
    "\n",
    "class PandasDataset(Dataset):\n",
    "    def __init__(self, dataframe, cat_cols, target_col):\n",
    "        self.categorical = torch.tensor(dataframe[cat_cols].values, dtype=torch.float32)\n",
    "        #self.continuous = torch.tensor(dataframe[cont_cols].values, dtype=torch.float32)\n",
    "        self.targets = torch.tensor(dataframe[target_col].values, dtype=torch.float32)\n",
    "\n",
    "    def __len__(self):\n",
    "        return len(self.targets)\n",
    "\n",
    "    def __getitem__(self, index):\n",
    "        return self.categorical[index], self.targets[index]\n",
    "\n",
    "class MyModel(nn.Module):\n",
    "    def __init__(self):\n",
    "        super(MyModel, self).__init__()\n",
    "        self.linear1 = nn.Linear(10, 128)\n",
    "        self.batch_norm1 = nn.BatchNorm1d(128)\n",
    "        self.linear2 = nn.Linear(128, 64)\n",
    "        self.batch_norm2 = nn.BatchNorm1d(64)\n",
    "        self.linear3 = nn.Linear(64, 1)\n",
    "        self.dropout = nn.Dropout(0.7)\n",
    "        \n",
    "    def forward(self, x):\n",
    "        x = F.relu(self.linear1(x))\n",
    "        x = self.dropout(x)\n",
    "        x = self.batch_norm1(x)\n",
    "        x = F.relu(self.linear2(x))\n",
    "        x = self.dropout(x)\n",
    "        x = self.batch_norm2(x)\n",
    "        x = F.relu(self.linear3(x))\n",
    "        return x.squeeze()\n",
    "\n",
    "data = pd.read_csv('processed_train.csv')"
   ]
  },
  {
   "cell_type": "code",
   "execution_count": null,
   "id": "3c1ade3f-28e9-4076-ac2c-327fc49fd1c0",
   "metadata": {},
   "outputs": [],
   "source": [
    "one_hot = OneHotEncoder(categories=[['A', 'B', 'C']])\n",
    "encoded_data = one_hot.fit_transform(data[['CALL_TYPE']]).toarray()\n",
    "encoded_df = pd.DataFrame(encoded_data, columns=one_hot.get_feature_names_out(['CALL_TYPE']))\n",
    "data = pd.concat([encoded_df, data], axis=1)\n",
    "data = data.drop('CALL_TYPE', axis=1)"
   ]
  },
  {
   "cell_type": "code",
   "execution_count": null,
   "id": "40e65898-ff14-43a5-8aec-abab9f3b1795",
   "metadata": {},
   "outputs": [],
   "source": [
    "train_data, val_data = train_test_split(data, test_size=0.2, random_state=42)\n",
    "train_data = train_data.reset_index()\n",
    "val_data = val_data.reset_index()\n",
    "\n",
    "categorical = [\n",
    "    'CALL_TYPE_A',\n",
    "    'CALL_TYPE_B',\n",
    "    'CALL_TYPE_C',\n",
    "    'ORIGIN_CALL',\n",
    "    'ORIGIN_STAND',\n",
    "    'TAXI_ID',\n",
    "    'QTRHR',\n",
    "    'WK',\n",
    "    'WKYR',\n",
    "    'HOLIDAY'\n",
    "]\n",
    "train = PandasDataset(train_data, cat_cols=categorical, target_col='TRAVEL_TIME')\n",
    "val = PandasDataset(val_data, cat_cols=categorical, target_col='TRAVEL_TIME')\n",
    "train_dataloader = DataLoader(train, batch_size=512, shuffle=True, num_workers=16)\n",
    "val_dataloader = DataLoader(val, batch_size=512, shuffle=False, num_workers=16)"
   ]
  },
  {
   "cell_type": "code",
   "execution_count": null,
   "id": "e60db198-ddfc-4d1e-b87b-431c7ed04575",
   "metadata": {},
   "outputs": [],
   "source": [
    "model = MyModel().to(device)\n",
    "optimizer = optim.Adam(model.parameters(), lr=0.003)\n",
    "loss_fn = nn.MSELoss()"
   ]
  },
  {
   "cell_type": "code",
   "execution_count": null,
   "id": "b69af52a-b4a9-4e52-912c-6ce61d484b81",
   "metadata": {},
   "outputs": [],
   "source": [
    "model.eval()\n",
    "\n",
    "train_loss_list = []\n",
    "init_train_loss = 0.0\n",
    "with torch.no_grad(), tqdm(train_dataloader, desc=f\"Initial Training Loss\") as progress:\n",
    "    for inputs, targets in progress:\n",
    "        inputs = inputs.to(device)\n",
    "        targets = targets.to(device)\n",
    "\n",
    "        outputs = model(inputs)\n",
    "        loss = torch.sqrt(loss_fn(outputs, targets))\n",
    "        \n",
    "        init_train_loss += loss.item()\n",
    "        progress.set_postfix({\"Train Loss\": loss.item()})\n",
    "\n",
    "init_train_loss /= len(train_dataloader)\n",
    "train_loss_list.append(init_train_loss)\n",
    "\n",
    "val_loss_list = []\n",
    "init_val_loss = 0.0\n",
    "with torch.no_grad(), tqdm(val_dataloader, desc=f\"Initial Validation Loss\") as progress:\n",
    "    for inputs, targets in progress:\n",
    "        inputs = inputs.to(device)\n",
    "        targets = targets.to(device)\n",
    "\n",
    "        outputs = model(inputs)\n",
    "        loss = torch.sqrt(loss_fn(outputs, targets))\n",
    "        \n",
    "        init_val_loss += loss.item()\n",
    "        progress.set_postfix({\"Val Loss\": loss.item()})\n",
    "\n",
    "init_val_loss /= len(val_dataloader)\n",
    "val_loss_list.append(init_val_loss)"
   ]
  },
  {
   "cell_type": "code",
   "execution_count": null,
   "id": "ace237fb-6c1c-4fae-9435-d7649192f88f",
   "metadata": {},
   "outputs": [],
   "source": [
    "max_epochs = 4\n",
    "for epoch in range(max_epochs):\n",
    "    model.train()\n",
    "    train_loss = 0.0\n",
    "    with tqdm(train_dataloader, desc=f\"Epoch {epoch+1}/{max_epochs} - Training\") as progress:\n",
    "        for batch_idx, (inputs, targets) in enumerate(progress):\n",
    "            inputs = inputs.to(device)\n",
    "            targets = targets.to(device)\n",
    "    \n",
    "            optimizer.zero_grad()\n",
    "            outputs = model(inputs)\n",
    "            loss = torch.sqrt(loss_fn(outputs, targets))\n",
    "    \n",
    "            loss.backward()\n",
    "            optimizer.step()\n",
    "    \n",
    "            train_loss += loss.item()\n",
    "            progress.set_postfix({\"Train Loss\": loss.item()})\n",
    "\n",
    "    train_loss /= len(train_dataloader)\n",
    "\n",
    "    model.eval()\n",
    "    val_loss = 0.0\n",
    "    with torch.no_grad(), tqdm(val_dataloader, desc=f\"Epoch {epoch+1}/{max_epochs} - Validation\") as progress:\n",
    "        for inputs, targets in progress:\n",
    "            inputs = inputs.to(device)\n",
    "            targets = targets.to(device)\n",
    "\n",
    "            outputs = model(inputs)\n",
    "            loss = torch.sqrt(loss_fn(outputs, targets))\n",
    "            \n",
    "            val_loss += loss.item()\n",
    "            progress.set_postfix({\"Val Loss\": loss.item()})\n",
    "\n",
    "    val_loss /= len(val_dataloader)\n",
    "\n",
    "    print(f\"Epoch {epoch+1}/{max_epochs} - Train Loss: {train_loss:.4f} - Val Loss: {val_loss:.4f}\")\n",
    "    train_loss_list.append(train_loss)\n",
    "    val_loss_list.append(val_loss)"
   ]
  },
  {
   "cell_type": "code",
   "execution_count": null,
   "id": "7460b16d-428d-4ab9-9e03-de6d0961b302",
   "metadata": {},
   "outputs": [],
   "source": [
    "x = range(len(train_loss_list))\n",
    "plt.plot(x, train_loss_list, label='Training Loss')\n",
    "plt.plot(x, val_loss_list, label='Validation Loss')\n",
    "plt.xlabel('Epochs')\n",
    "plt.ylabel('RMSE Loss')\n",
    "plt.title('Loss Per Epoch - Model A')\n",
    "plt.legend()\n",
    "#plt.savefig('loss.png', dpi=600, bbox_inches='tight')\n",
    "plt.show()\n"
   ]
  },
  {
   "cell_type": "code",
   "execution_count": null,
   "id": "242d9ad8-8eda-4399-b314-f6d07b9f5bbb",
   "metadata": {},
   "outputs": [],
   "source": [
    "#torch.save(model.state_dict(), './A.pt')"
   ]
  },
  {
   "cell_type": "code",
   "execution_count": null,
   "id": "73233bc7-d456-4c4b-b1fb-e0051e6e8328",
   "metadata": {},
   "outputs": [],
   "source": [
    "class EvalPandasDataset(Dataset):\n",
    "    def __init__(self, dataframe, cat_cols):\n",
    "        self.categorical = torch.tensor(dataframe[cat_cols].values, dtype=torch.float32)\n",
    "        self.ids = dataframe['TRIP_ID']\n",
    "\n",
    "    def __len__(self):\n",
    "        return len(self.categorical)\n",
    "\n",
    "    def __getitem__(self, index):\n",
    "        return self.ids[index], self.categorical[index]"
   ]
  },
  {
   "cell_type": "code",
   "execution_count": null,
   "id": "3231d276-2d32-472b-a802-59d440357269",
   "metadata": {},
   "outputs": [],
   "source": [
    "test_data = pd.read_csv('processed_test.csv')\n",
    "\n",
    "encoded_data = one_hot.fit_transform(test_data[['CALL_TYPE']]).toarray()\n",
    "encoded_df = pd.DataFrame(encoded_data, columns=one_hot.get_feature_names_out(['CALL_TYPE']))\n",
    "test_data = pd.concat([encoded_df, test_data], axis=1)\n",
    "test_data = test_data.drop('CALL_TYPE', axis=1)\n",
    "\n",
    "test = EvalPandasDataset(test_data, categorical)\n",
    "test_dataloader = DataLoader(test, batch_size=64, shuffle=False, num_workers=8)"
   ]
  },
  {
   "cell_type": "code",
   "execution_count": null,
   "id": "8deed1da-fdda-4c4e-a0ab-1b73a227cfae",
   "metadata": {},
   "outputs": [],
   "source": [
    "model.eval()\n",
    "create_array = True\n",
    "with torch.no_grad(), tqdm(test_dataloader, desc=f\"Testing\") as progress:\n",
    "    for id, inputs in progress:\n",
    "        inputs = inputs.to(device)\n",
    "        outputs = model(inputs)\n",
    "\n",
    "        if create_array:\n",
    "            ids = id\n",
    "            score = outputs\n",
    "            create_array = False\n",
    "        else:\n",
    "            ids = ids + id\n",
    "            score = torch.cat((score, outputs))"
   ]
  },
  {
   "cell_type": "code",
   "execution_count": null,
   "id": "cec7f801-f0fd-4bd9-857c-7931d8fd67a1",
   "metadata": {},
   "outputs": [],
   "source": [
    "df = pd.DataFrame({'TRIP_ID': ids, 'TRAVEL_TIME': score.cpu()})\n",
    "def extract_id(value):\n",
    "    return int(value[1:])\n",
    "df_sorted = df.iloc[df['TRIP_ID'].map(extract_id).argsort()]"
   ]
  },
  {
   "cell_type": "code",
   "execution_count": null,
   "id": "2292d451-7634-4d9e-9ef7-61c3d7a6430d",
   "metadata": {},
   "outputs": [],
   "source": [
    "df_sorted"
   ]
  },
  {
   "cell_type": "code",
   "execution_count": null,
   "id": "49ad362e-f1b9-467a-b804-314e6bfc0e20",
   "metadata": {},
   "outputs": [],
   "source": [
    "df_sorted.to_csv('submission.csv', index=False)"
   ]
  },
  {
   "cell_type": "code",
   "execution_count": null,
   "id": "75e63ed8-09b6-444d-a65e-31b292d6affd",
   "metadata": {},
   "outputs": [],
   "source": [
    "sum(p.numel() for p in model.parameters() if p.requires_grad)"
   ]
  }
 ],
 "metadata": {
  "kernelspec": {
   "display_name": "Python 3 (ipykernel)",
   "language": "python",
   "name": "python3"
  },
  "language_info": {
   "codemirror_mode": {
    "name": "ipython",
    "version": 3
   },
   "file_extension": ".py",
   "mimetype": "text/x-python",
   "name": "python",
   "nbconvert_exporter": "python",
   "pygments_lexer": "ipython3",
   "version": "3.9.15"
  }
 },
 "nbformat": 4,
 "nbformat_minor": 5
}
