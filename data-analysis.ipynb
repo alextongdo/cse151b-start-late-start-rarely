{
 "cells": [
  {
   "cell_type": "code",
   "execution_count": null,
   "id": "1894239e-55c7-46a7-89e9-0d35efc8ebcd",
   "metadata": {},
   "outputs": [],
   "source": [
    "import pandas as pd\n",
    "import matplotlib.pyplot as plt\n",
    "import numpy as np\n",
    "import seaborn as sns"
   ]
  },
  {
   "cell_type": "code",
   "execution_count": null,
   "id": "162c01bc-35e1-4ef4-9ca6-3b46ef88e7e7",
   "metadata": {},
   "outputs": [],
   "source": [
    "train_df = pd.read_csv('processed_train.csv')"
   ]
  },
  {
   "cell_type": "code",
   "execution_count": null,
   "id": "d90df375-38cb-402c-a443-fe32726cc831",
   "metadata": {},
   "outputs": [],
   "source": [
    "# Compare distributions of non-holidays and holidays\n",
    "pd.set_option('display.float_format', '{:.1f}'.format)\n",
    "print(\"TRAVEL_TIME distribution for non-holiday\")\n",
    "print(train_df[train_df['HOLIDAY'] == 0]['TRAVEL_TIME'].describe())\n",
    "print()\n",
    "print(\"TRAVEL_TIME distribution for day before holiday\")\n",
    "print(train_df[train_df['HOLIDAY'] == 1]['TRAVEL_TIME'].describe())\n",
    "print()\n",
    "print(\"TRAVEL_TIME distribution for holiday\")\n",
    "print(train_df[train_df['HOLIDAY'] == 2]['TRAVEL_TIME'].describe())"
   ]
  },
  {
   "cell_type": "code",
   "execution_count": null,
   "id": "0559abf0-e16e-4a8c-ba78-a1e322ed678d",
   "metadata": {},
   "outputs": [],
   "source": [
    "mean, std = train_df[\"TRAVEL_TIME\"].mean(), train_df[\"TRAVEL_TIME\"].std()\n",
    "\n",
    "# First n samples to analyze. Set to -1 to use all data\n",
    "end = -1\n",
    "\n",
    "outlier_threshold = 3\n",
    "\n",
    "# \"Choose all data, where the trip length is less than 3 standard deviations away from the mean\"\n",
    "# This is to remove outliers. Otherwise, our plots would look very squished (since there are some\n",
    "# VERRRRRY long taxi trips in the dataset)\n",
    "df_trimmed = train_df[train_df[\"TRAVEL_TIME\"] < mean + outlier_threshold * std]\n",
    "\n",
    "# Because our y-values only take on multiples of 15, we want just enough buckets in a histogram\n",
    "# such that each buckets counts one value's frequency. (e.x. one bucket counts how many 15s trips, \n",
    "# how many 30s trips, etc. )\n",
    "buckets = (int(mean + outlier_threshold * std) // 15)\n",
    "\n",
    "print(f\"Using: {len(df_trimmed)}/{len(train_df)}\")\n",
    "\n",
    "fig, axs = plt.subplots(nrows=1, ncols=3, figsize=(18,5))\n",
    "\n",
    "# Now, we visualize some features that we think might be useful\n",
    "for idx, v in enumerate([\"QTRHR\", \"WK\", \"WKYR\"]):\n",
    "    \n",
    "    #ax = axs[idx // 3, idx % 3]\n",
    "    ax = axs[idx % 3]\n",
    "    \n",
    "    # Remove any rows with invalid values\n",
    "    df_subset = df_trimmed.dropna(subset=v)\n",
    "    \n",
    "    # Create a histogram. Look up the documentation for more details\n",
    "    ax.hist2d(df_subset[v][:end], df_subset[\"TRAVEL_TIME\"][:end], cmap=\"CMRmap\", bins=(120,buckets))\n",
    "    \n",
    "    # Some stylistic things to make the graphs look nice\n",
    "    ax.set_xlim(ax.get_xlim()[0] - 1, ax.get_xlim()[1] + 1)\n",
    "    ax.set_facecolor(\"black\")\n",
    "    ax.set_ylabel(\"seconds\", fontsize=18)\n",
    "    ax.set_title(f\"Feature: {v}\", fontsize=20)\n",
    "    #plt.savefig('time_features.png', dpi=600, bbox_inches='tight')"
   ]
  },
  {
   "cell_type": "code",
   "execution_count": null,
   "id": "f7c1c893-8324-44ea-8cf1-b12d373cf0ea",
   "metadata": {},
   "outputs": [],
   "source": [
    "plt.figure(figsize=(18,6))\n",
    "\n",
    "histogram, bin_boundary = np.histogram(train_df['TRAVEL_TIME'], bins=buckets)\n",
    "histogram = histogram / len(train_df['TRAVEL_TIME'])\n",
    "\n",
    "bin_centers = [(bin_boundary[i] + bin_boundary[i+1])/2 for i in range(buckets)]\n",
    "plt.plot(bin_centers, histogram)\n",
    "plt.rc('font', size=20) \n",
    "plt.xlabel('Taxi Trip Time (s)')\n",
    "plt.ylabel('Percentile of Times')\n",
    "plt.title('Distribution of Travel Times')\n",
    "plt.savefig('distribution.png', dpi=600, bbox_inches='tight')"
   ]
  },
  {
   "cell_type": "code",
   "execution_count": null,
   "id": "76d44794-85cb-4779-8eae-185f037d8642",
   "metadata": {},
   "outputs": [],
   "source": [
    "call_type_A = df_trimmed[df_trimmed['CALL_TYPE'] == 'A']\n",
    "call_type_B = df_trimmed[df_trimmed['CALL_TYPE'] == 'B']\n",
    "call_type_C = df_trimmed[df_trimmed['CALL_TYPE'] == 'C']\n",
    "plt.figure(figsize=(12,6))\n",
    "\n",
    "histogram_a, bin_boundary_a = np.histogram(call_type_A['TRAVEL_TIME'], bins=buckets)\n",
    "histogram_a = histogram_a / len(call_type_A['TRAVEL_TIME'])\n",
    "bin_centers_a = [(bin_boundary_a[i] + bin_boundary_a[i+1])/2 for i in range(buckets)]\n",
    "plt.plot(bin_centers_a, histogram_a, label='A')\n",
    "\n",
    "histogram_b, bin_boundary_b = np.histogram(call_type_B['TRAVEL_TIME'], bins=buckets)\n",
    "histogram_b = histogram_b / len(call_type_B['TRAVEL_TIME'])\n",
    "bin_centers_b = [(bin_boundary_b[i] + bin_boundary_b[i+1])/2 for i in range(buckets)]\n",
    "plt.plot(bin_centers_b, histogram_b, label='B')\n",
    "\n",
    "histogram_c, bin_boundary_c = np.histogram(call_type_C['TRAVEL_TIME'], bins=buckets)\n",
    "histogram_c = histogram_c / len(call_type_C['TRAVEL_TIME'])\n",
    "bin_centers_c = [(bin_boundary_c[i] + bin_boundary_c[i+1])/2 for i in range(buckets)]\n",
    "plt.plot(bin_centers_c, histogram_c, label='C')\n",
    "plt.rc('font', size=20) \n",
    "plt.xlabel('Taxi Trip Time (s)')\n",
    "plt.ylabel('Percentile of Times')\n",
    "plt.title('Distribution of Travel Times By Call Type')\n",
    "plt.legend()\n",
    "#plt.savefig('distribution.png', dpi=600, bbox_inches='tight')"
   ]
  },
  {
   "cell_type": "code",
   "execution_count": null,
   "id": "3682456c-98f3-4a3c-802c-e9e8d881baa4",
   "metadata": {},
   "outputs": [],
   "source": [
    "np.set_printoptions(threshold=10)\n",
    "train_df.columns"
   ]
  },
  {
   "cell_type": "code",
   "execution_count": null,
   "id": "def258e5-1a45-4013-a070-6e3055b55906",
   "metadata": {},
   "outputs": [],
   "source": [
    "print(np.array(train_df['CALL_TYPE'].unique()))\n",
    "print(len(train_df['CALL_TYPE'].unique()))"
   ]
  },
  {
   "cell_type": "code",
   "execution_count": null,
   "id": "1f2dc866-4fde-4b0c-9713-328ff960f214",
   "metadata": {},
   "outputs": [],
   "source": [
    "print(np.array(sorted(train_df['ORIGIN_CALL'].unique())))\n",
    "print(len(train_df['ORIGIN_CALL'].unique()))"
   ]
  },
  {
   "cell_type": "code",
   "execution_count": null,
   "id": "c1b5bab4-9c44-462d-ac33-f68209563815",
   "metadata": {},
   "outputs": [],
   "source": [
    "print(np.array(sorted(train_df['ORIGIN_STAND'].unique())))\n",
    "print(len(train_df['ORIGIN_STAND'].unique()))"
   ]
  },
  {
   "cell_type": "code",
   "execution_count": null,
   "id": "a4d2690d-1daa-4ed9-b8fb-89fe1e11f823",
   "metadata": {},
   "outputs": [],
   "source": [
    "print(np.array(sorted(train_df['TAXI_ID'].unique())))\n",
    "print(len(train_df['TAXI_ID'].unique()))"
   ]
  },
  {
   "cell_type": "code",
   "execution_count": null,
   "id": "5c6bdede-a506-4617-b018-a650ce144220",
   "metadata": {},
   "outputs": [],
   "source": [
    "print(np.array(sorted(train_df['QTRHR'].unique())))\n",
    "print(len(train_df['QTRHR'].unique()))"
   ]
  },
  {
   "cell_type": "code",
   "execution_count": null,
   "id": "9f591e72-ad33-4ce3-bdf2-c0ea05970bce",
   "metadata": {},
   "outputs": [],
   "source": [
    "print(np.array(sorted(train_df['WK'].unique())))\n",
    "print(len(train_df['WK'].unique()))"
   ]
  },
  {
   "cell_type": "code",
   "execution_count": null,
   "id": "c613bd12-06c2-4ada-9377-1e376e78eeec",
   "metadata": {},
   "outputs": [],
   "source": [
    "print(np.array(sorted(train_df['WKYR'].unique())))\n",
    "print(len(train_df['WKYR'].unique()))"
   ]
  },
  {
   "cell_type": "code",
   "execution_count": null,
   "id": "66c95bee-f8b9-40a6-a3be-fb5ac1a8364d",
   "metadata": {},
   "outputs": [],
   "source": [
    "print(np.array(sorted(train_df['HOLIDAY'].unique())))\n",
    "print(len(train_df['HOLIDAY'].unique()))"
   ]
  },
  {
   "cell_type": "code",
   "execution_count": null,
   "id": "26131e4f-7cba-43b2-9791-c9c29ce01332",
   "metadata": {},
   "outputs": [],
   "source": [
    "metadata = pd.read_csv(\"kaggle_data/metaData_taxistandsID_name_GPSlocation.csv\")\n",
    "metadata = metadata.drop('Descricao', axis=1)"
   ]
  },
  {
   "cell_type": "code",
   "execution_count": null,
   "id": "51b74d9b-0838-43f6-ae0f-fa9c8ee995fc",
   "metadata": {},
   "outputs": [],
   "source": [
    "trips_from_stand = train_df[train_df['ORIGIN_STAND'] != 0]"
   ]
  },
  {
   "cell_type": "code",
   "execution_count": null,
   "id": "118b7398-2e08-4901-8f6d-f02f03f84665",
   "metadata": {},
   "outputs": [],
   "source": [
    "from tqdm import tqdm\n",
    "\n",
    "progress_bar = tqdm(total=len(trips_from_stand))\n",
    "\n",
    "def origin_stand_to_location(x):\n",
    "  progress_bar.update(1)\n",
    "  result = metadata[metadata['ID'] == x[\"ORIGIN_STAND\"]]\n",
    "  return float(result['Latitude'].item()), float(result['Longitude'].item())\n",
    "\n",
    "trips_from_stand[[\"OS_LAT\", \"OS_LONG\"]] = trips_from_stand[[\"ORIGIN_STAND\"]].apply(origin_stand_to_location, axis=1, result_type=\"expand\")\n",
    "progress_bar.close()"
   ]
  },
  {
   "cell_type": "code",
   "execution_count": null,
   "id": "3825b41f-fd1b-4133-83cd-8d7b0c3f2b1c",
   "metadata": {},
   "outputs": [],
   "source": [
    "def count_trips(x):\n",
    "    return len(trips_from_stand[trips_from_stand['ORIGIN_STAND'] == x['ID']])\n",
    "\n",
    "metadata[\"COUNT\"] = metadata[[\"ID\"]].apply(count_trips, axis=1, result_type=\"expand\")"
   ]
  },
  {
   "cell_type": "code",
   "execution_count": null,
   "id": "6dc155a9-2d43-43c1-b87a-249112d7ec49",
   "metadata": {},
   "outputs": [],
   "source": [
    "assert len(trips_from_stand) == metadata[\"COUNT\"].sum()"
   ]
  },
  {
   "cell_type": "code",
   "execution_count": null,
   "id": "a9053668-b784-4831-86c2-60b5f7a288c2",
   "metadata": {},
   "outputs": [],
   "source": [
    "# Create a 2D histogram\n",
    "heatmap, xedges, yedges = np.histogram2d(trips_from_stand['OS_LAT'], trips_from_stand['OS_LONG'], bins=20)\n",
    "\n",
    "heatmap = heatmap / len(trips_from_stand)\n",
    "\n",
    "# Create a heatmap using Seaborn\n",
    "sns.heatmap(heatmap, cmap='Blues', cbar_kws={'label': 'Percent of Taxi Trips'})\n",
    "\n",
    "x_bin_edges = xedges\n",
    "y_bin_edges = yedges\n",
    "\n",
    "x_bin_edges = [f'{value:.3f}' for value in x_bin_edges]\n",
    "y_bin_edges = [f'{value:.3f}' for value in y_bin_edges]\n",
    "\n",
    "plt.xticks(range(len(x_bin_edges)), x_bin_edges, rotation=45)\n",
    "plt.yticks(range(len(y_bin_edges)), y_bin_edges, rotation=0)\n",
    "\n",
    "\n",
    "# Set the axis labels\n",
    "plt.xlabel('Latitude')\n",
    "plt.ylabel('Longitude')\n",
    "\n",
    "plt.title('Distribution of Taxi Trip Starting Points')\n",
    "plt.savefig('heatmap_starting.png', dpi=600, bbox_inches='tight')\n",
    "# Display the plot\n",
    "plt.show()"
   ]
  },
  {
   "cell_type": "code",
   "execution_count": null,
   "id": "709a0eb9-b7e0-4453-b93e-2804715b3cde",
   "metadata": {},
   "outputs": [],
   "source": [
    "bins=20\n",
    "# Calculate the 2D histogram sums and counts\n",
    "hist_sum, xedges, yedges = np.histogram2d(\n",
    "    trips_from_stand['OS_LAT'],\n",
    "    trips_from_stand['OS_LONG'],\n",
    "    bins=bins,\n",
    "    weights=trips_from_stand['TRAVEL_TIME']\n",
    ")\n",
    "hist_count, _, _ = np.histogram2d(trips_from_stand['OS_LAT'], trips_from_stand['OS_LONG'], bins=bins)\n",
    "\n",
    "x_bin_edges = xedges\n",
    "y_bin_edges = yedges\n",
    "\n",
    "x_bin_edges = [f'{value:.3f}' for value in x_bin_edges]\n",
    "y_bin_edges = [f'{value:.3f}' for value in y_bin_edges]\n",
    "\n",
    "# Calculate the average for each bin\n",
    "hist_average = np.divide(hist_sum, hist_count, where=hist_count != 0)\n",
    "\n",
    "# Create a heatmap using Seaborn\n",
    "sns.heatmap(hist_average, cmap='Purples', cbar_kws={'label': 'Taxi Travel Time (s)'})\n",
    "\n",
    "# Set the x-axis tick labels\n",
    "plt.xticks(range(bins + 1), x_bin_edges, rotation=45)\n",
    "\n",
    "# Set the y-axis tick labels\n",
    "plt.yticks(range(bins + 1), y_bin_edges, rotation=0)\n",
    "\n",
    "# Set the axis labels\n",
    "plt.xlabel('Latitude')\n",
    "plt.ylabel('Longitude')\n",
    "\n",
    "# Set the title\n",
    "plt.title('Average Taxi Travel Times')\n",
    "plt.savefig('heatmap_average.png', dpi=600, bbox_inches='tight')\n",
    "# Display the plot\n",
    "plt.show()"
   ]
  },
  {
   "cell_type": "code",
   "execution_count": null,
   "id": "f7582886-eb64-41ab-bcfd-908141aed7e9",
   "metadata": {},
   "outputs": [],
   "source": []
  }
 ],
 "metadata": {
  "kernelspec": {
   "display_name": "Python 3 (ipykernel)",
   "language": "python",
   "name": "python3"
  },
  "language_info": {
   "codemirror_mode": {
    "name": "ipython",
    "version": 3
   },
   "file_extension": ".py",
   "mimetype": "text/x-python",
   "name": "python",
   "nbconvert_exporter": "python",
   "pygments_lexer": "ipython3",
   "version": "3.9.15"
  }
 },
 "nbformat": 4,
 "nbformat_minor": 5
}
